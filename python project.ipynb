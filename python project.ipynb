{
  "nbformat": 4,
  "nbformat_minor": 0,
  "metadata": {
    "colab": {
      "provenance": []
    },
    "kernelspec": {
      "name": "python3",
      "display_name": "Python 3"
    },
    "language_info": {
      "name": "python"
    }
  },
  "cells": [
    {
      "cell_type": "markdown",
      "source": [
        "Handwritten Digit Prediction using Python and Logistic Regression"
      ],
      "metadata": {
        "id": "ea-r_xn9iTHE"
      }
    },
    {
      "cell_type": "code",
      "execution_count": 10,
      "metadata": {
        "id": "C0ZoBTC5gpif"
      },
      "outputs": [],
      "source": [
        "# Importing essential libraries\n",
        "import numpy as np\n",
        "import pandas as pd\n",
        "import matplotlib.pyplot as plt\n",
        "from sklearn.model_selection import train_test_split\n",
        "from sklearn.linear_model import LogisticRegression\n",
        "from sklearn.metrics import accuracy_score\n",
        "from sklearn.datasets import load_digits\n"
      ]
    },
    {
      "cell_type": "markdown",
      "source": [
        "In this step, we will load the dataset and visualize some of the images to understand the data."
      ],
      "metadata": {
        "id": "YCj4LAmDh3OI"
      }
    },
    {
      "cell_type": "code",
      "source": [
        "# Load the digits dataset\n",
        "digits = load_digits()\n",
        "\n",
        "# Display the dataset information\n",
        "print(\"Dataset Shape:\", digits.data.shape)\n",
        "print(\"Number of Classes:\", len(digits.target_names))\n",
        "\n",
        "# Display some example images\n",
        "plt.figure(figsize=(10, 4))\n",
        "for i in range(10):\n",
        "    plt.subplot(2, 5, i+1)\n",
        "    plt.imshow(digits.images[i], cmap='gray')\n",
        "    plt.title(f\"Label: {digits.target[i]}\")\n",
        "    plt.axis('off')\n",
        "plt.tight_layout()\n",
        "plt.show()\n"
      ],
      "metadata": {
        "colab": {
          "base_uri": "https://localhost:8080/",
          "height": 446
        },
        "id": "-59t0da6hUvl",
        "outputId": "c80e1c30-b623-4620-8e37-a1885174680b"
      },
      "execution_count": 11,
      "outputs": [
        {
          "output_type": "stream",
          "name": "stdout",
          "text": [
            "Dataset Shape: (1797, 64)\n",
            "Number of Classes: 10\n"
          ]
        },
        {
          "output_type": "display_data",
          "data": {
            "text/plain": [
              "<Figure size 1000x400 with 10 Axes>"
            ],
            "image/png": "[encoded data removed]"
          },
          "metadata": {}
        }
      ]
    },
    {
      "cell_type": "code",
      "source": [
        "# Split data into features and target\n",
        "X = digits.data\n",
        "y = digits.target\n",
        "\n",
        "# Split into training and testing sets\n",
        "X_train, X_test, y_train, y_test = train_test_split(X, y, test_size=0.2, random_state=42)\n",
        "\n",
        "print(\"Training Data Shape:\", X_train.shape)\n",
        "print(\"Testing Data Shape:\", X_test.shape)\n"
      ],
      "metadata": {
        "colab": {
          "base_uri": "https://localhost:8080/"
        },
        "id": "Zi8wQzGwhUxG",
        "outputId": "e2dda684-efb8-44dd-f259-b6b2a593cd6a"
      },
      "execution_count": 12,
      "outputs": [
        {
          "output_type": "stream",
          "name": "stdout",
          "text": [
            "Training Data Shape: (1437, 64)\n",
            "Testing Data Shape: (360, 64)\n"
          ]
        }
      ]
    },
    {
      "cell_type": "markdown",
      "source": [
        "We will now train a Logistic Regression model on the training data"
      ],
      "metadata": {
        "id": "EbGyR3ydkTd4"
      }
    },
    {
      "cell_type": "code",
      "source": [
        "# Create and train the model\n",
        "model = LogisticRegression(max_iter=10000)\n",
        "model.fit(X_train, y_train)\n",
        "\n",
        "print(\"Model trained successfully!\")\n"
      ],
      "metadata": {
        "colab": {
          "base_uri": "https://localhost:8080/"
        },
        "id": "K-HE5XMAiwY1",
        "outputId": "cbe4b591-1e19-4271-d353-1f0a6807cc9e"
      },
      "execution_count": 13,
      "outputs": [
        {
          "output_type": "stream",
          "name": "stdout",
          "text": [
            "Model trained successfully!\n"
          ]
        }
      ]
    },
    {
      "cell_type": "code",
      "source": [
        "# Debugging: Check the shapes of the test set\n",
        "print(\"Shape of X_test:\", X_test.shape)\n",
        "print(\"Shape of y_test:\", y_test.shape)\n",
        "\n",
        "# Predict the test data\n",
        "try:\n",
        "    y_pred = model.predict(X_test)\n",
        "    print(\"Prediction successful!\")\n",
        "except Exception as e:\n",
        "    print(\"Error during prediction:\", e)\n",
        "\n",
        "# Debugging: Check shapes of predictions\n",
        "print(\"Shape of y_pred:\", y_pred.shape if 'y_pred' in locals() else \"Prediction not completed\")\n",
        "\n",
        "# Calculate accuracy if prediction is successful\n",
        "if 'y_pred' in locals():\n",
        "    try:\n",
        "        accuracy = accuracy_score(y_test, y_pred)\n",
        "        print(f\"Accuracy of the model on the test set: {accuracy * 100:.2f}%\")\n",
        "    except Exception as e:\n",
        "        print(\"Error during accuracy calculation:\", e)\n",
        "else:\n",
        "    print(\"Skipping accuracy calculation due to prediction error.\")\n"
      ],
      "metadata": {
        "colab": {
          "base_uri": "https://localhost:8080/"
        },
        "id": "Puf40nJxjsK-",
        "outputId": "df0f17fc-e39e-4918-feda-72afc4451cae"
      },
      "execution_count": 14,
      "outputs": [
        {
          "output_type": "stream",
          "name": "stdout",
          "text": [
            "Shape of X_test: (360, 64)\n",
            "Shape of y_test: (360,)\n",
            "Prediction successful!\n",
            "Shape of y_pred: (360,)\n",
            "Accuracy of the model on the test set: 97.50%\n"
          ]
        }
      ]
    },
    {
      "cell_type": "code",
      "source": [
        "# Test with a new image\n",
        "sample_index = 0  # You can change this to test other images\n",
        "sample_image = X_test[sample_index]\n",
        "sample_label = y_test[sample_index]\n",
        "\n",
        "# Predict the digit\n",
        "predicted_label = model.predict([sample_image])\n",
        "\n",
        "# Display the image and prediction\n",
        "plt.imshow(sample_image.reshape(8, 8), cmap='gray')\n",
        "plt.title(f\"True Label: {sample_label}, Predicted: {predicted_label[0]}\")\n",
        "plt.axis('off')\n",
        "plt.show()\n"
      ],
      "metadata": {
        "colab": {
          "base_uri": "https://localhost:8080/",
          "height": 428
        },
        "id": "1L6273T1j2lc",
        "outputId": "bf8b7181-7522-442c-e4ba-b41de156140f"
      },
      "execution_count": 15,
      "outputs": [
        {
          "output_type": "display_data",
          "data": {
            "text/plain": [
              "<Figure size 640x480 with 1 Axes>"
            ],
            "image/png": "[encoded data removed]"
          },
          "metadata": {}
        }
      ]
    }
  ]
}